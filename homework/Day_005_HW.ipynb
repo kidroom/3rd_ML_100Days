{
 "cells": [
  {
   "cell_type": "code",
   "execution_count": null,
   "metadata": {},
   "outputs": [],
   "source": [
    "import pandas as pd\n",
    "import numpy as np\n",
    "\n",
    "people = np.random.randint(100000000, size=3)\n",
    "\n",
    "info = {'國家': ['Taiwan', 'America', 'England'], '人口': people}\n",
    "df = pd.DataFrame(info)\n",
    "\n",
    "print(df)"
   ]
  },
  {
   "cell_type": "code",
   "execution_count": null,
   "metadata": {},
   "outputs": [],
   "source": [
    "import os\n",
    "import io\n",
    "import pandas as pd\n",
    "import numpy as np\n",
    "from PIL import Image\n",
    "import matplotlib.pyplot as plt\n",
    "import numpy as np\n",
    "import requests\n",
    "\n",
    "target_url='https://raw.githubusercontent.com/vashineyu/slides_and_others/master/tutorial/examples/imagenet_urls_examples.txt'\n",
    "\n",
    "response = requests.get(target_url)\n",
    "urltxt = response.text\n",
    "\n",
    "urltxt = urltxt.split('\\n')\n",
    "i=0\n",
    "\n",
    "name=[]\n",
    "url=[]\n",
    "\n",
    "for string in urltxt:\n",
    "    name.append(string.split('\\t')[0])\n",
    "    try:\n",
    "        url.append(string.split('\\t')[1])\n",
    "    except:\n",
    "        url.append(\"\")\n",
    "\n",
    "data_dict = {'name': name, 'url':url}\n",
    "data = pd.DataFrame(data_dict)\n",
    "\n",
    "k=5\n",
    "i=0\n",
    "while i < k:\n",
    "    try:\n",
    "        img=Image.open(io.BytesIO((requests.get(data.loc[i][1])).content))\n",
    "    except :\n",
    "        k+=1\n",
    "    else:\n",
    "        plt.imshow(img)\n",
    "        plt.show()\n",
    "    i+=1\n"
   ]
  }
 ],
 "metadata": {
  "kernelspec": {
   "display_name": "Python 3",
   "language": "python",
   "name": "python3"
  },
  "language_info": {
   "codemirror_mode": {
    "name": "ipython",
    "version": 3
   },
   "file_extension": ".py",
   "mimetype": "text/x-python",
   "name": "python",
   "nbconvert_exporter": "python",
   "pygments_lexer": "ipython3",
   "version": "3.6.5"
  }
 },
 "nbformat": 4,
 "nbformat_minor": 2
}
