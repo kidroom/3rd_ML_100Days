{
 "cells": [
  {
   "cell_type": "code",
   "execution_count": null,
   "metadata": {},
   "outputs": [],
   "source": [
    "w = 3\n",
    "b = 0.5\n",
    "x_lin = np.linspace(0, 100, 101)\n",
    "np.random.randn(101)\n",
    "y = (x_lin + np.random.randn(101) * 5) * w + b\n",
    "plt.plot(x_lin, y, 'b.', label = 'data points')\n",
    "plt.title(\"little one bad bad\")\n",
    "plt.legend(loc = 2)\n",
    "plt.show()\n",
    "\n",
    "y_hat = x_lin * w + b\n",
    "plt.plot(x_lin, y, 'b.', label = 'data')\n",
    "plt.plot(x_lin, y_hat, 'r-', label = 'prediction')\n",
    "plt.title(\"little one bad bad\")\n",
    "plt.legend(loc = 2)\n",
    "plt.show()\n",
    "\n",
    "def mean_absolute_error(y, yp):\n",
    "    mae = sum(abs(y - yp)) / len(y)\n",
    "    return mae\n",
    "\n",
    "MAE = mean_absolute_error(y, y_hat)\n",
    "print(\"The Mean absolute error is %.3f\" % (MAE))\n",
    "\n",
    "def mean_squared_error(y, yp):\n",
    "    mse = sum(np.square(y - yp))/len(yp)\n",
    "    return mse\n",
    "MSE = mean_squared_error(y, y_hat)\n",
    "print(\"The Mean squared error is %.3f\" % (MSE))"
   ]
  },
  {
   "cell_type": "code",
   "execution_count": null,
   "metadata": {},
   "outputs": [],
   "source": [
    "作業2：\n",
    "1. 你選的這組資料為何重要\n",
    "犯罪是全世界無時無刻都在發生的事情，而且總是帶有負面影響，對社會的破壞力也頗具威力，如果經過統計分析能有效預防，就能大大降低對社會的損壞\n",
    "，社會進步的速度也會相對變快，也較少阻礙。\n",
    "2. 資料從何而來\n",
    "波士頓的警局所提供，他們使用一個新的新的犯罪回報系統。\n",
    "3. 蒐集而來的資料型態為何\n",
    "資料是存成文字CSV檔\n",
    "4. 這組資料想解決的問題如何評估\n",
    "什麼犯罪類型最常發生、哪些地點容易發生哪種犯罪類型、犯罪的頻率的是在一年或一周還是一天中轉變"
   ]
  },
  {
   "cell_type": "code",
   "execution_count": null,
   "metadata": {},
   "outputs": [],
   "source": [
    "作業3：\n",
    "想像你經營一個自由載客車隊，你希望能透過數據分析以提升業績，請你思考並描述你如何規劃整體的分析/解決方案：\n",
    "\n",
    "1. 核心問題為何 \n",
    "業績方面先建立一個預設模組，先定義一個最大載客時間及收益來做一個標準，向下做一個分層式獎勵圖，依照每個司機每月收益來評定，當收益越高\n",
    "給予的獎勵也相對高，這一項獎勵機制對象以全職人員為主。另個獎勵方案以上線時間接單的密集度和收益比來評比，對於業餘跑單的人員也會增加積\n",
    "極度。\n",
    "2. 資料從何而來 \n",
    "收集載客資料，載客路線是公開的。\n",
    "3. 蒐集而來的資料型態為何\n",
    "文字檔\n",
    "4. 你要回答的問題，其如何評估\n",
    "以載客路線的分布可以產生一個密集程度分布圖。也可依據時間來看分布圖再比對載客地點分析地區性的客源。"
   ]
  }
 ],
 "metadata": {
  "kernelspec": {
   "display_name": "Python 3",
   "language": "python",
   "name": "python3"
  },
  "language_info": {
   "codemirror_mode": {
    "name": "ipython",
    "version": 3
   },
   "file_extension": ".py",
   "mimetype": "text/x-python",
   "name": "python",
   "nbconvert_exporter": "python",
   "pygments_lexer": "ipython3",
   "version": "3.6.5"
  }
 },
 "nbformat": 4,
 "nbformat_minor": 2
}
