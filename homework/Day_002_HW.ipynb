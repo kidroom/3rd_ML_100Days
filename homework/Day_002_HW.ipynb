{
 "cells": [
  {
   "cell_type": "code",
   "execution_count": null,
   "metadata": {},
   "outputs": [],
   "source": [
    "請找出一個你認為機器學習可以發光發熱的領域並闡述原因?\n",
    "我覺得在娛樂業可能會有很大的發展，如音樂創作、遊戲模組。流行音樂其實有學過的都知道，都是幾個主要常用的和弦做搭配，主流音樂的模式沒有改革\n",
    "性的改變，應該不會有太大的變化。其中較大的問題點是，音樂都會有過非主流的歌曲突然爆紅，也許其中也有些規則。至於遊戲模組的創作，現今線上的\n",
    "免洗遊戲一個接著一個出，其中的遊戲模式和類型都大同小異。娛樂是現今社會不可或缺的元素之一，由現今的潮流youtuber來說，收益甚至高過現在線上\n",
    "的藝人，可見其收益之高。"
   ]
  }
 ],
 "metadata": {
  "kernelspec": {
   "display_name": "Python 3",
   "language": "python",
   "name": "python3"
  },
  "language_info": {
   "codemirror_mode": {
    "name": "ipython",
    "version": 3
   },
   "file_extension": ".py",
   "mimetype": "text/x-python",
   "name": "python",
   "nbconvert_exporter": "python",
   "pygments_lexer": "ipython3",
   "version": "3.6.5"
  }
 },
 "nbformat": 4,
 "nbformat_minor": 2
}
